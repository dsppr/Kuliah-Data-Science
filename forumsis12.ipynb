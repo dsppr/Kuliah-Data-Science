{
 "cells": [
  {
   "cell_type": "code",
   "execution_count": 1,
   "id": "f49ce128-489f-47fa-90ba-b5c49969caaa",
   "metadata": {},
   "outputs": [],
   "source": [
    "import numpy as np\n",
    "import scipy.stats as stats"
   ]
  },
  {
   "cell_type": "code",
   "execution_count": 4,
   "id": "1eb0dda8-af91-4627-9cee-b48022b46691",
   "metadata": {},
   "outputs": [],
   "source": [
    "total_days = 50\n",
    "total_sales = 100\n",
    "days_in_month = 30\n",
    "confidence_level = 0.95"
   ]
  },
  {
   "cell_type": "code",
   "execution_count": 7,
   "id": "d81d9182-2b5a-49a5-a7dd-bd07598efb50",
   "metadata": {},
   "outputs": [],
   "source": [
    "mean_sales_per_day = total_sales / total_days\n",
    "\n",
    "std_dev_sales_per_day = 1.5\n",
    "\n",
    "mean_sales_per_month = mean_sales_per_day * days_in_month\n",
    "std_dev_sales_per_month = std_dev_sales_per_day * np.sqrt(days_in_month)\n",
    "\n",
    "z_value = stats.norm.ppf(1 - (1 - confidence_level) / 2)\n",
    "\n",
    "# 95% Confidence Interval\n",
    "ci_lower = mean_sales_per_month - z_value * std_dev_sales_per_month\n",
    "ci_upper = mean_sales_per_month + z_value * std_dev_sales_per_month"
   ]
  },
  {
   "cell_type": "code",
   "execution_count": 9,
   "id": "fc083b67-ede5-406e-97e6-943855c35735",
   "metadata": {},
   "outputs": [
    {
     "name": "stdout",
     "output_type": "stream",
     "text": [
      "Rata-rata penjualan dalam 30 hari: 60.0\n",
      "Confidence Interval 95%: (43.897252706545586, 76.10274729345441)\n"
     ]
    }
   ],
   "source": [
    "print(f\"Rata-rata penjualan dalam 30 hari: {mean_sales_per_month}\")\n",
    "print(f\"Confidence Interval 95%: ({ci_lower}, {ci_upper})\")"
   ]
  }
 ],
 "metadata": {
  "kernelspec": {
   "display_name": "Python 3 (ipykernel)",
   "language": "python",
   "name": "python3"
  },
  "language_info": {
   "codemirror_mode": {
    "name": "ipython",
    "version": 3
   },
   "file_extension": ".py",
   "mimetype": "text/x-python",
   "name": "python",
   "nbconvert_exporter": "python",
   "pygments_lexer": "ipython3",
   "version": "3.12.4"
  }
 },
 "nbformat": 4,
 "nbformat_minor": 5
}
