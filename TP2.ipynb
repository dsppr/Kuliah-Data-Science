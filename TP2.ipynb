{
 "cells": [
  {
   "cell_type": "markdown",
   "id": "b9abae4d-0581-496d-96f8-9b3789728a5a",
   "metadata": {},
   "source": [
    "**Dataset**"
   ]
  },
  {
   "cell_type": "code",
   "execution_count": 4,
   "id": "2dd5bc0d-71fd-46a2-8498-0c2696019531",
   "metadata": {},
   "outputs": [
    {
     "data": {
      "text/html": [
       "<div>\n",
       "<style scoped>\n",
       "    .dataframe tbody tr th:only-of-type {\n",
       "        vertical-align: middle;\n",
       "    }\n",
       "\n",
       "    .dataframe tbody tr th {\n",
       "        vertical-align: top;\n",
       "    }\n",
       "\n",
       "    .dataframe thead th {\n",
       "        text-align: right;\n",
       "    }\n",
       "</style>\n",
       "<table border=\"1\" class=\"dataframe\">\n",
       "  <thead>\n",
       "    <tr style=\"text-align: right;\">\n",
       "      <th></th>\n",
       "      <th>Rumah</th>\n",
       "      <th>Lat</th>\n",
       "      <th>Long</th>\n",
       "      <th>Lokasi</th>\n",
       "    </tr>\n",
       "  </thead>\n",
       "  <tbody>\n",
       "    <tr>\n",
       "      <th>0</th>\n",
       "      <td>A</td>\n",
       "      <td>11</td>\n",
       "      <td>26</td>\n",
       "      <td>Kota</td>\n",
       "    </tr>\n",
       "    <tr>\n",
       "      <th>1</th>\n",
       "      <td>B</td>\n",
       "      <td>15</td>\n",
       "      <td>29</td>\n",
       "      <td>Kota</td>\n",
       "    </tr>\n",
       "    <tr>\n",
       "      <th>2</th>\n",
       "      <td>C</td>\n",
       "      <td>19</td>\n",
       "      <td>28</td>\n",
       "      <td>Kota</td>\n",
       "    </tr>\n",
       "    <tr>\n",
       "      <th>3</th>\n",
       "      <td>D</td>\n",
       "      <td>18</td>\n",
       "      <td>30</td>\n",
       "      <td>Kota</td>\n",
       "    </tr>\n",
       "    <tr>\n",
       "      <th>4</th>\n",
       "      <td>E</td>\n",
       "      <td>16</td>\n",
       "      <td>26</td>\n",
       "      <td>Kota</td>\n",
       "    </tr>\n",
       "    <tr>\n",
       "      <th>5</th>\n",
       "      <td>F</td>\n",
       "      <td>23</td>\n",
       "      <td>25</td>\n",
       "      <td>Kabupaten</td>\n",
       "    </tr>\n",
       "    <tr>\n",
       "      <th>6</th>\n",
       "      <td>G</td>\n",
       "      <td>25</td>\n",
       "      <td>22</td>\n",
       "      <td>Kabupaten</td>\n",
       "    </tr>\n",
       "    <tr>\n",
       "      <th>7</th>\n",
       "      <td>H</td>\n",
       "      <td>21</td>\n",
       "      <td>24</td>\n",
       "      <td>Kabupaten</td>\n",
       "    </tr>\n",
       "    <tr>\n",
       "      <th>8</th>\n",
       "      <td>I</td>\n",
       "      <td>23</td>\n",
       "      <td>25</td>\n",
       "      <td>Kabupaten</td>\n",
       "    </tr>\n",
       "    <tr>\n",
       "      <th>9</th>\n",
       "      <td>J</td>\n",
       "      <td>29</td>\n",
       "      <td>24</td>\n",
       "      <td>Kabupaten</td>\n",
       "    </tr>\n",
       "    <tr>\n",
       "      <th>10</th>\n",
       "      <td>X</td>\n",
       "      <td>19</td>\n",
       "      <td>25</td>\n",
       "      <td>?</td>\n",
       "    </tr>\n",
       "  </tbody>\n",
       "</table>\n",
       "</div>"
      ],
      "text/plain": [
       "   Rumah  Lat  Long     Lokasi\n",
       "0      A   11    26       Kota\n",
       "1      B   15    29       Kota\n",
       "2      C   19    28       Kota\n",
       "3      D   18    30       Kota\n",
       "4      E   16    26       Kota\n",
       "5      F   23    25  Kabupaten\n",
       "6      G   25    22  Kabupaten\n",
       "7      H   21    24  Kabupaten\n",
       "8      I   23    25  Kabupaten\n",
       "9      J   29    24  Kabupaten\n",
       "10     X   19    25          ?"
      ]
     },
     "execution_count": 4,
     "metadata": {},
     "output_type": "execute_result"
    }
   ],
   "source": [
    "import pandas as pd\n",
    "\n",
    "data = pd.read_csv('ilustrasidata.csv')\n",
    "data"
   ]
  },
  {
   "cell_type": "markdown",
   "id": "3a378ad5-6238-4991-864c-debc1fe055f7",
   "metadata": {},
   "source": [
    "**Perhitungan**"
   ]
  },
  {
   "cell_type": "code",
   "execution_count": 16,
   "id": "84c8b2b8-1e27-45da-bfc1-a09b825cbff2",
   "metadata": {},
   "outputs": [
    {
     "data": {
      "text/html": [
       "<div>\n",
       "<style scoped>\n",
       "    .dataframe tbody tr th:only-of-type {\n",
       "        vertical-align: middle;\n",
       "    }\n",
       "\n",
       "    .dataframe tbody tr th {\n",
       "        vertical-align: top;\n",
       "    }\n",
       "\n",
       "    .dataframe thead th {\n",
       "        text-align: right;\n",
       "    }\n",
       "</style>\n",
       "<table border=\"1\" class=\"dataframe\">\n",
       "  <thead>\n",
       "    <tr style=\"text-align: right;\">\n",
       "      <th></th>\n",
       "      <th>Rumah</th>\n",
       "      <th>Lat</th>\n",
       "      <th>Long</th>\n",
       "      <th>Lokasi</th>\n",
       "      <th>Distance_to_X</th>\n",
       "    </tr>\n",
       "  </thead>\n",
       "  <tbody>\n",
       "    <tr>\n",
       "      <th>2</th>\n",
       "      <td>C</td>\n",
       "      <td>19</td>\n",
       "      <td>28</td>\n",
       "      <td>Kota</td>\n",
       "      <td>2.000000</td>\n",
       "    </tr>\n",
       "    <tr>\n",
       "      <th>1</th>\n",
       "      <td>B</td>\n",
       "      <td>15</td>\n",
       "      <td>29</td>\n",
       "      <td>Kota</td>\n",
       "      <td>2.236068</td>\n",
       "    </tr>\n",
       "    <tr>\n",
       "      <th>3</th>\n",
       "      <td>D</td>\n",
       "      <td>18</td>\n",
       "      <td>30</td>\n",
       "      <td>Kota</td>\n",
       "      <td>2.236068</td>\n",
       "    </tr>\n",
       "  </tbody>\n",
       "</table>\n",
       "</div>"
      ],
      "text/plain": [
       "  Rumah  Lat  Long Lokasi  Distance_to_X\n",
       "2     C   19    28   Kota       2.000000\n",
       "1     B   15    29   Kota       2.236068\n",
       "3     D   18    30   Kota       2.236068"
      ]
     },
     "execution_count": 16,
     "metadata": {},
     "output_type": "execute_result"
    }
   ],
   "source": [
    "import numpy as np\n",
    "from scipy.spatial import distance\n",
    "\n",
    "rumah_x = {'Lat': 17, 'Long': 28} # Koordinat acak Rumah X\n",
    "\n",
    "data['Distance_to_X'] = data.apply(lambda row: distance.euclidean((row['Lat'], row['Long']), (rumah_x['Lat'], rumah_x['Long'])), axis=1)\n",
    "\n",
    "nearest_neighbors = data.sort_values(by='Distance_to_X').head(3)\n",
    "nearest_neighbors[['Rumah', 'Lat', 'Long', 'Lokasi', 'Distance_to_X']]"
   ]
  },
  {
   "cell_type": "markdown",
   "id": "39642ff5-3d62-4a6e-98bc-dc965b903b41",
   "metadata": {},
   "source": [
    "**Prediksi Lokasi Rumah X**"
   ]
  },
  {
   "cell_type": "code",
   "execution_count": 18,
   "id": "120032f1-5fdb-48ba-aa26-b7763134585b",
   "metadata": {},
   "outputs": [
    {
     "name": "stdout",
     "output_type": "stream",
     "text": [
      "Rumah X diprediksi berada di: Kota\n"
     ]
    }
   ],
   "source": [
    "prediksi = nearest_neighbors['Lokasi'].mode()[0]\n",
    "print(f\"Rumah X diprediksi berada di: {prediksi}\")"
   ]
  }
 ],
 "metadata": {
  "kernelspec": {
   "display_name": "Python 3 (ipykernel)",
   "language": "python",
   "name": "python3"
  },
  "language_info": {
   "codemirror_mode": {
    "name": "ipython",
    "version": 3
   },
   "file_extension": ".py",
   "mimetype": "text/x-python",
   "name": "python",
   "nbconvert_exporter": "python",
   "pygments_lexer": "ipython3",
   "version": "3.12.4"
  }
 },
 "nbformat": 4,
 "nbformat_minor": 5
}
