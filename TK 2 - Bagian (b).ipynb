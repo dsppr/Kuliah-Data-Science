{
 "cells": [
  {
   "cell_type": "markdown",
   "id": "4397c0fb-1961-4f79-bedd-60804d5bee9a",
   "metadata": {},
   "source": [
    "# Menghitung Mean, Median, dan Modus"
   ]
  },
  {
   "cell_type": "code",
   "execution_count": 7,
   "id": "8f6bb089-b3e9-4bfe-9a5f-545b2a0cd4df",
   "metadata": {},
   "outputs": [],
   "source": [
    "import pandas as pd\n",
    "\n",
    "file_path = 'Data Mahasiswa.csv'\n",
    "data_mahasiswa = pd.read_csv(file_path)"
   ]
  },
  {
   "cell_type": "code",
   "execution_count": 9,
   "id": "3855f8cc-2790-4d82-83b7-9c996cbc9f1e",
   "metadata": {},
   "outputs": [],
   "source": [
    "ipk_values = data_mahasiswa['IPK SEMESTER 1-6']"
   ]
  },
  {
   "cell_type": "code",
   "execution_count": 13,
   "id": "3c76989c-a6d0-4032-9636-64775baee2fc",
   "metadata": {},
   "outputs": [],
   "source": [
    "mean_ipk = ipk_values.mean()\n",
    "median_ipk = ipk_values.median()\n",
    "modus_ipk = ipk_values.mode()[0]"
   ]
  },
  {
   "cell_type": "markdown",
   "id": "548b3a27-af9f-4a5e-9003-5c0f1e22be4c",
   "metadata": {},
   "source": [
    "**Output Hasil**"
   ]
  },
  {
   "cell_type": "code",
   "execution_count": 17,
   "id": "755a44d6-6628-4e8a-9af5-ebf3d1212561",
   "metadata": {},
   "outputs": [
    {
     "name": "stdout",
     "output_type": "stream",
     "text": [
      "Mean: 2.925333333333333\n",
      "Median: 3.01\n",
      "Modus: 2.5\n"
     ]
    }
   ],
   "source": [
    "print(f\"Mean: {mean_ipk}\")\n",
    "print(f\"Median: {median_ipk}\")\n",
    "print(f\"Modus: {modus_ipk}\")"
   ]
  },
  {
   "cell_type": "markdown",
   "id": "7b47102a-bd4e-4898-9000-6801a9c6e027",
   "metadata": {},
   "source": [
    "**Berdasarkan hasil perhitungan menggunakan Python, berikut adalah nilai Mean, Median, dan Modus dari IPK Semester 1-6:**\n",
    "\n",
    "**Mean:** 2.9253  \n",
    "**Median:** 3.01  \n",
    "**Modus:** 2.50  \n",
    "\n",
    "\n",
    "Hasil ini sama dengan perhitungan manual yang telah dikerjakan pada **poin a​**"
   ]
  }
 ],
 "metadata": {
  "kernelspec": {
   "display_name": "Python 3 (ipykernel)",
   "language": "python",
   "name": "python3"
  },
  "language_info": {
   "codemirror_mode": {
    "name": "ipython",
    "version": 3
   },
   "file_extension": ".py",
   "mimetype": "text/x-python",
   "name": "python",
   "nbconvert_exporter": "python",
   "pygments_lexer": "ipython3",
   "version": "3.12.4"
  }
 },
 "nbformat": 4,
 "nbformat_minor": 5
}
