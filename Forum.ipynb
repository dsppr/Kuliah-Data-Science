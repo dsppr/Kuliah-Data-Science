{
 "cells": [
  {
   "cell_type": "code",
   "execution_count": 1,
   "id": "f49ce128-489f-47fa-90ba-b5c49969caaa",
   "metadata": {},
   "outputs": [],
   "source": [
    "import numpy as np\n",
    "import scipy.stats as stats"
   ]
  },
  {
   "cell_type": "markdown",
   "id": "50d11d93-3afb-451d-b6dc-8b497a1fd65f",
   "metadata": {},
   "source": [
    "**Data**"
   ]
  },
  {
   "cell_type": "code",
   "execution_count": 4,
   "id": "1eb0dda8-af91-4627-9cee-b48022b46691",
   "metadata": {},
   "outputs": [],
   "source": [
    "total_days = 50\n",
    "total_sales = 100\n",
    "days_in_month = 30\n",
    "confidence_level = 0.95"
   ]
  },
  {
   "cell_type": "markdown",
   "id": "1f1d2527-f704-4e2f-b28d-ebd459966349",
   "metadata": {},
   "source": [
    "**Rata-rata penjualan**"
   ]
  },
  {
   "cell_type": "code",
   "execution_count": null,
   "id": "d81d9182-2b5a-49a5-a7dd-bd07598efb50",
   "metadata": {},
   "outputs": [],
   "source": []
  }
 ],
 "metadata": {
  "kernelspec": {
   "display_name": "Python 3 (ipykernel)",
   "language": "python",
   "name": "python3"
  },
  "language_info": {
   "codemirror_mode": {
    "name": "ipython",
    "version": 3
   },
   "file_extension": ".py",
   "mimetype": "text/x-python",
   "name": "python",
   "nbconvert_exporter": "python",
   "pygments_lexer": "ipython3",
   "version": "3.12.4"
  }
 },
 "nbformat": 4,
 "nbformat_minor": 5
}
