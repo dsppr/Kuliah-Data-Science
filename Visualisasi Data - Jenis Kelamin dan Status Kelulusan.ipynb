{
 "cells": [
  {
   "cell_type": "markdown",
   "id": "d6f7106c-aded-424a-a812-ed69898d32dc",
   "metadata": {},
   "source": [
    "# Visualisasi Data\n",
    "Penggambarkan hubungan antara jenis kelamin dan status kelulusan."
   ]
  },
  {
   "cell_type": "markdown",
   "id": "8e909eb2-8c35-4390-adff-2b7090498cde",
   "metadata": {},
   "source": [
    "**Import Library**"
   ]
  },
  {
   "cell_type": "code",
   "execution_count": 55,
   "id": "91af5872-50b4-4d6d-acbe-88ba81513516",
   "metadata": {},
   "outputs": [],
   "source": [
    "import pandas as pd\n",
    "import seaborn as sns\n",
    "import matplotlib.pyplot as plt"
   ]
  },
  {
   "cell_type": "markdown",
   "id": "3cec939d-81ea-46ee-846b-f89eca74da58",
   "metadata": {},
   "source": [
    "**Load Dataset**"
   ]
  },
  {
   "cell_type": "code",
   "execution_count": 90,
   "id": "68360b36-7b87-4ae5-9eb7-f08ce8a9228b",
   "metadata": {},
   "outputs": [
    {
     "data": {
      "text/html": [
       "<div>\n",
       "<style scoped>\n",
       "    .dataframe tbody tr th:only-of-type {\n",
       "        vertical-align: middle;\n",
       "    }\n",
       "\n",
       "    .dataframe tbody tr th {\n",
       "        vertical-align: top;\n",
       "    }\n",
       "\n",
       "    .dataframe thead th {\n",
       "        text-align: right;\n",
       "    }\n",
       "</style>\n",
       "<table border=\"1\" class=\"dataframe\">\n",
       "  <thead>\n",
       "    <tr style=\"text-align: right;\">\n",
       "      <th></th>\n",
       "      <th>NO</th>\n",
       "      <th>JENIS KELAMIN</th>\n",
       "      <th>STATUS MAHASISWA</th>\n",
       "      <th>STATUS PERNIKAHAN</th>\n",
       "      <th>IPK SEMESTER 1-6</th>\n",
       "      <th>STATUS KELULUSAN</th>\n",
       "    </tr>\n",
       "  </thead>\n",
       "  <tbody>\n",
       "    <tr>\n",
       "      <th>0</th>\n",
       "      <td>1</td>\n",
       "      <td>LAKI - LAKI</td>\n",
       "      <td>MAHASISWA</td>\n",
       "      <td>BELUM</td>\n",
       "      <td>3.17</td>\n",
       "      <td>TEPAT</td>\n",
       "    </tr>\n",
       "    <tr>\n",
       "      <th>1</th>\n",
       "      <td>2</td>\n",
       "      <td>LAKI - LAKI</td>\n",
       "      <td>BEKERJA</td>\n",
       "      <td>BELUM</td>\n",
       "      <td>3.30</td>\n",
       "      <td>TEPAT</td>\n",
       "    </tr>\n",
       "    <tr>\n",
       "      <th>2</th>\n",
       "      <td>3</td>\n",
       "      <td>PEREMPUAN</td>\n",
       "      <td>MAHASISWA</td>\n",
       "      <td>BELUM</td>\n",
       "      <td>3.01</td>\n",
       "      <td>TEPAT</td>\n",
       "    </tr>\n",
       "    <tr>\n",
       "      <th>3</th>\n",
       "      <td>4</td>\n",
       "      <td>PEREMPUAN</td>\n",
       "      <td>MAHASISWA</td>\n",
       "      <td>MENIKAH</td>\n",
       "      <td>3.25</td>\n",
       "      <td>TEPAT</td>\n",
       "    </tr>\n",
       "    <tr>\n",
       "      <th>4</th>\n",
       "      <td>5</td>\n",
       "      <td>LAKI - LAKI</td>\n",
       "      <td>BEKERJA</td>\n",
       "      <td>MENIKAH</td>\n",
       "      <td>3.20</td>\n",
       "      <td>TEPAT</td>\n",
       "    </tr>\n",
       "    <tr>\n",
       "      <th>5</th>\n",
       "      <td>6</td>\n",
       "      <td>LAKI - LAKI</td>\n",
       "      <td>BEKERJA</td>\n",
       "      <td>MENIKAH</td>\n",
       "      <td>2.50</td>\n",
       "      <td>TERLAMBAT</td>\n",
       "    </tr>\n",
       "    <tr>\n",
       "      <th>6</th>\n",
       "      <td>7</td>\n",
       "      <td>PEREMPUAN</td>\n",
       "      <td>BEKERJA</td>\n",
       "      <td>MENIKAH</td>\n",
       "      <td>3.00</td>\n",
       "      <td>TERLAMBAT</td>\n",
       "    </tr>\n",
       "    <tr>\n",
       "      <th>7</th>\n",
       "      <td>8</td>\n",
       "      <td>PEREMPUAN</td>\n",
       "      <td>BEKERJA</td>\n",
       "      <td>BELUM</td>\n",
       "      <td>2.70</td>\n",
       "      <td>TERLAMBAT</td>\n",
       "    </tr>\n",
       "    <tr>\n",
       "      <th>8</th>\n",
       "      <td>9</td>\n",
       "      <td>LAKI - LAKI</td>\n",
       "      <td>BEKERJA</td>\n",
       "      <td>BELUM</td>\n",
       "      <td>2.40</td>\n",
       "      <td>TERLAMBAT</td>\n",
       "    </tr>\n",
       "    <tr>\n",
       "      <th>9</th>\n",
       "      <td>10</td>\n",
       "      <td>PEREMPUAN</td>\n",
       "      <td>MAHASISWA</td>\n",
       "      <td>MENIKAH</td>\n",
       "      <td>2.50</td>\n",
       "      <td>TERLAMBAT</td>\n",
       "    </tr>\n",
       "    <tr>\n",
       "      <th>10</th>\n",
       "      <td>11</td>\n",
       "      <td>PEREMPUAN</td>\n",
       "      <td>MAHASISWA</td>\n",
       "      <td>BELUM</td>\n",
       "      <td>2.50</td>\n",
       "      <td>TERLAMBAT</td>\n",
       "    </tr>\n",
       "    <tr>\n",
       "      <th>11</th>\n",
       "      <td>12</td>\n",
       "      <td>PEREMPUAN</td>\n",
       "      <td>MAHASISWA</td>\n",
       "      <td>BELUM</td>\n",
       "      <td>3.50</td>\n",
       "      <td>TEPAT</td>\n",
       "    </tr>\n",
       "    <tr>\n",
       "      <th>12</th>\n",
       "      <td>13</td>\n",
       "      <td>LAKI - LAKI</td>\n",
       "      <td>BEKERJA</td>\n",
       "      <td>MENIKAH</td>\n",
       "      <td>3.30</td>\n",
       "      <td>TEPAT</td>\n",
       "    </tr>\n",
       "    <tr>\n",
       "      <th>13</th>\n",
       "      <td>14</td>\n",
       "      <td>LAKI - LAKI</td>\n",
       "      <td>MAHASISWA</td>\n",
       "      <td>MENIKAH</td>\n",
       "      <td>3.25</td>\n",
       "      <td>TEPAT</td>\n",
       "    </tr>\n",
       "    <tr>\n",
       "      <th>14</th>\n",
       "      <td>15</td>\n",
       "      <td>LAKI - LAKI</td>\n",
       "      <td>MAHASISWA</td>\n",
       "      <td>BELUM</td>\n",
       "      <td>2.30</td>\n",
       "      <td>TERLAMBAT</td>\n",
       "    </tr>\n",
       "  </tbody>\n",
       "</table>\n",
       "</div>"
      ],
      "text/plain": [
       "    NO JENIS KELAMIN STATUS MAHASISWA STATUS PERNIKAHAN  IPK SEMESTER 1-6  \\\n",
       "0    1   LAKI - LAKI        MAHASISWA             BELUM              3.17   \n",
       "1    2   LAKI - LAKI          BEKERJA             BELUM              3.30   \n",
       "2    3     PEREMPUAN        MAHASISWA             BELUM              3.01   \n",
       "3    4     PEREMPUAN        MAHASISWA           MENIKAH              3.25   \n",
       "4    5   LAKI - LAKI          BEKERJA           MENIKAH              3.20   \n",
       "5    6   LAKI - LAKI          BEKERJA           MENIKAH              2.50   \n",
       "6    7     PEREMPUAN          BEKERJA           MENIKAH              3.00   \n",
       "7    8     PEREMPUAN          BEKERJA             BELUM              2.70   \n",
       "8    9   LAKI - LAKI          BEKERJA             BELUM              2.40   \n",
       "9   10     PEREMPUAN        MAHASISWA           MENIKAH              2.50   \n",
       "10  11     PEREMPUAN        MAHASISWA             BELUM              2.50   \n",
       "11  12     PEREMPUAN        MAHASISWA             BELUM              3.50   \n",
       "12  13   LAKI - LAKI          BEKERJA           MENIKAH              3.30   \n",
       "13  14   LAKI - LAKI        MAHASISWA           MENIKAH              3.25   \n",
       "14  15   LAKI - LAKI        MAHASISWA             BELUM              2.30   \n",
       "\n",
       "   STATUS KELULUSAN  \n",
       "0             TEPAT  \n",
       "1             TEPAT  \n",
       "2             TEPAT  \n",
       "3             TEPAT  \n",
       "4             TEPAT  \n",
       "5         TERLAMBAT  \n",
       "6         TERLAMBAT  \n",
       "7         TERLAMBAT  \n",
       "8         TERLAMBAT  \n",
       "9         TERLAMBAT  \n",
       "10        TERLAMBAT  \n",
       "11            TEPAT  \n",
       "12            TEPAT  \n",
       "13            TEPAT  \n",
       "14        TERLAMBAT  "
      ]
     },
     "execution_count": 90,
     "metadata": {},
     "output_type": "execute_result"
    }
   ],
   "source": [
    "data = pd.read_csv('Data Mahasiswa.csv')\n",
    "data"
   ]
  },
  {
   "cell_type": "markdown",
   "id": "f31c4b3c-cec6-4009-af83-14e780c278b7",
   "metadata": {},
   "source": [
    "**Menghitung jumlah mahasiswa berdasarkan jenis kelamin dan status kelulusan**"
   ]
  },
  {
   "cell_type": "code",
   "execution_count": 72,
   "id": "307b366b-454c-401f-a68b-1fd5ac568cb9",
   "metadata": {},
   "outputs": [],
   "source": [
    "data_counts = data.groupby(['JENIS KELAMIN', 'STATUS KELULUSAN']).size().reset_index(name='Count')"
   ]
  },
  {
   "cell_type": "markdown",
   "id": "95d1f15c-a16b-414f-84a2-e9e7285cdb9e",
   "metadata": {},
   "source": [
    "**Plot**"
   ]
  },
  {
   "cell_type": "code",
   "execution_count": 82,
   "id": "a7fabb7d-c64b-49b3-bddd-5bbd8c4b6958",
   "metadata": {},
   "outputs": [
    {
     "data": {
      "image/png": "[encoded data removed]",
      "text/plain": [
       "<Figure size 1000x600 with 1 Axes>"
      ]
     },
     "metadata": {},
     "output_type": "display_data"
    }
   ],
   "source": [
    "plt.figure(figsize=(10, 6))\n",
    "sns.barplot(x='JENIS KELAMIN', y='Count', hue='STATUS KELULUSAN', data=data_counts, palette='viridis')\n",
    "plt.title('Hubungan antara Jenis Kelamin dan Status Kelulusan')\n",
    "plt.xlabel('Jenis Kelamin')\n",
    "plt.ylabel('Jumlah Mahasiswa')\n",
    "plt.legend(title='Status Kelulusan')\n",
    "plt.show()"
   ]
  }
 ],
 "metadata": {
  "kernelspec": {
   "display_name": "Python 3 (ipykernel)",
   "language": "python",
   "name": "python3"
  },
  "language_info": {
   "codemirror_mode": {
    "name": "ipython",
    "version": 3
   },
   "file_extension": ".py",
   "mimetype": "text/x-python",
   "name": "python",
   "nbconvert_exporter": "python",
   "pygments_lexer": "ipython3",
   "version": "3.12.4"
  }
 },
 "nbformat": 4,
 "nbformat_minor": 5
}
